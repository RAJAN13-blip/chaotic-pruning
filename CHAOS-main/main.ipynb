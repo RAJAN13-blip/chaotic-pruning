{
 "cells": [
  {
   "cell_type": "code",
   "execution_count": null,
   "metadata": {},
   "outputs": [],
   "source": []
  },
  {
   "cell_type": "code",
   "execution_count": null,
   "metadata": {},
   "outputs": [],
   "source": [
    "def forward_prop(W1,b1,W2,b2,X):\n",
    "    Z1 = np.dot(W1,X).reshape(-1,1) + b1\n",
    "    A1 = sigmoid(Z1)\n",
    "    Z2 = np.dot(W2,A1).reshape(-1,1) + b2\n",
    "    A2 = sigmoid(Z2)\n",
    "    return Z1, A1, Z2, A2\n",
    "\n",
    "\n",
    "def back_prop(Z1,A1,Z2,A2,W2,X,Y,func):\n",
    "    X = X.reshape(-1,1)\n",
    "    m = Y.size\n",
    "    one_hot_Y = Y#one_hot(Y)\n",
    "    if func == 'cross_entropy':\n",
    "        dZ2 = A2 - one_hot_Y.reshape(-1,1)\n",
    "    \n",
    "\n",
    "    elif func == 'mse':\n",
    "        dZ2 = (-2)*np.multiply( one_hot_Y.reshape(-1,1) - A2 ,sigmoid_derivative(Z2).reshape(-1,1))\n",
    "    dW2 = 1 / m * dZ2.dot(A1.T)\n",
    "    db2 = 1 / m * np.sum(dZ2,1)\n",
    "    dZ1 = W2.T.dot(dZ2)*sigmoid_derivative(Z1)\n",
    "    dW1 = 1 / m *  dZ1.dot(X.T)\n",
    "    db1 = 1 / m *  np.sum(dZ1,1)\n",
    "    return dW1,db1,dW2,db2\n"
   ]
  },
  {
   "cell_type": "code",
   "execution_count": null,
   "metadata": {},
   "outputs": [],
   "source": [
    "X_train,Y_train,X_test,Y_test = prepare_data()\n",
    "listWeights = np.load('titanic2.npy',allow_pickle=True)   # reading randomaly intialised preset weights "
   ]
  }
 ],
 "metadata": {
  "kernelspec": {
   "display_name": "Python 3",
   "language": "python",
   "name": "python3"
  },
  "language_info": {
   "name": "python",
   "version": "3.10.6"
  },
  "orig_nbformat": 4
 },
 "nbformat": 4,
 "nbformat_minor": 2
}
