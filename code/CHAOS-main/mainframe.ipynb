{
 "cells": [
  {
   "cell_type": "code",
   "execution_count": 2,
   "metadata": {},
   "outputs": [],
   "source": [
    "from dense import Dense\n",
    "from activations import *\n",
    "import numpy as np\n",
    "from losses import mse, mse_prime\n",
    "\n",
    "import bisect\n",
    "from sklearn import preprocessing\n",
    "import os\n",
    "import pandas as pd\n",
    "from parameters import *\n",
    "import copy\n",
    "import regex as re\n",
    "import matplotlib.pyplot as plt\n"
   ]
  },
  {
   "cell_type": "code",
   "execution_count": 3,
   "metadata": {},
   "outputs": [],
   "source": [
    "os.chdir('C:\\\\Users\\\\91993\\\\Desktop\\\\chaos\\\\')"
   ]
  },
  {
   "cell_type": "code",
   "execution_count": 4,
   "metadata": {},
   "outputs": [
    {
     "data": {
      "text/plain": [
       "'C:\\\\Users\\\\91993\\\\Desktop\\\\chaos'"
      ]
     },
     "execution_count": 4,
     "metadata": {},
     "output_type": "execute_result"
    }
   ],
   "source": [
    "home_path = os.getcwd()\n",
    "saved_path = home_path\n",
    "saved_path"
   ]
  },
  {
   "cell_type": "code",
   "execution_count": 5,
   "metadata": {},
   "outputs": [],
   "source": [
    "initialization_list = [1,2,3,4]"
   ]
  },
  {
   "cell_type": "code",
   "execution_count": 6,
   "metadata": {},
   "outputs": [],
   "source": [
    "df_train = {f'train{initialization}':[] for initialization in initialization_list}\n",
    "df_test = {f'test{initialization}':[] for initialization in initialization_list}"
   ]
  },
  {
   "cell_type": "code",
   "execution_count": 12,
   "metadata": {},
   "outputs": [
    {
     "name": "stdout",
     "output_type": "stream",
     "text": [
      "['diabetes-1.npy', 'diabetes-2.npy', 'diabetes-3.npy', 'diabetes-4.npy', 'weight_profiles', 'window_le']\n",
      "initialization already exists\n",
      "[[ 0.94314475  0.5356019   0.5990729  -0.97008442  1.97140045 -0.81301386\n",
      "   0.50763141 -0.85973351]\n",
      " [-1.09199837 -0.19097031  0.12009554 -0.08324957  0.10650477  1.36165548\n",
      "   0.27217857  0.66454626]\n",
      " [-0.04057685  0.70877653  0.0600324   0.74119949 -0.24555447 -0.58357314\n",
      "  -0.35737735  0.06201541]\n",
      " [-0.55313193  2.50163079  0.03954052 -0.64640851 -0.97675848  0.1839509\n",
      "  -0.20749603 -1.4433532 ]\n",
      " [-1.64842082 -0.42741787  0.22560017 -2.07888891 -1.47311506  0.36902406\n",
      "  -0.32090551  0.04181902]]\n",
      "[[-0.97341753]\n",
      " [-0.31754946]\n",
      " [ 0.14918768]\n",
      " [ 0.1990374 ]\n",
      " [-0.5567325 ]]\n",
      "[[-0.9707893   0.51668725 -1.4883404   0.84671528 -0.43958678]\n",
      " [ 0.18440194 -0.59637009  0.40094575 -0.05100352 -0.31156619]]\n",
      "[[1.8866854 ]\n",
      " [0.08718843]]\n",
      "['diabetes-1.npy', 'diabetes-2.npy', 'diabetes-3.npy', 'diabetes-4.npy', 'weight_profiles', 'window_le']\n",
      "initialization already exists\n",
      "[[-1.70338244 -0.0555477   0.38406545 -0.03269475 -2.0674421  -0.08912004\n",
      "  -1.3044695   0.66967255]\n",
      " [ 0.36659825 -0.93987979 -0.51386692 -1.05921352 -0.0626791   0.95514232\n",
      "  -0.98572605  0.50404652]\n",
      " [-0.53025762 -0.79287283 -0.10703036 -1.03524232 -0.55364931 -1.19787789\n",
      "   1.96472513  0.03526355]\n",
      " [-0.69972551  0.21397991 -0.11232805 -0.2209696   0.6141667   0.75750771\n",
      "  -0.53050115 -0.57581824]\n",
      " [-0.2750517  -2.30192116 -1.51519106  1.36687427  1.64496771 -0.24903604\n",
      "   0.57655696  0.31125015]]\n",
      "[[ 3.07888081]\n",
      " [ 1.11957491]\n",
      " [-0.12791759]\n",
      " [-0.95554044]\n",
      " [-1.60644632]]\n",
      "[[ 0.20346364 -0.75635075 -1.42225371 -0.64657288 -1.081548  ]\n",
      " [ 1.68714164  0.88163976 -0.00797264  1.47994414  0.07736831]]\n",
      "[[-0.8612842 ]\n",
      " [ 1.52312408]]\n",
      "['diabetes-1.npy', 'diabetes-2.npy', 'diabetes-3.npy', 'diabetes-4.npy', 'weight_profiles', 'window_le']\n",
      "initialization already exists\n",
      "[[ 0.91180022 -1.756375    2.51252492  0.48393873  0.61836139  0.17635797\n",
      "   0.62803818  1.28134811]\n",
      " [ 0.69757665  0.06901114 -0.05265274 -1.18389675 -0.63662611  0.98795846\n",
      "  -0.4858      1.3138474 ]\n",
      " [-0.25567872  0.73081907 -0.1422053   0.11116124 -0.25306736  0.75535589\n",
      "   0.29443329  0.66009156]\n",
      " [-0.87074747 -1.67271803  0.50459454 -0.75518529 -0.82597538  1.10595666\n",
      "   0.05229035 -1.06916903]\n",
      " [-2.10311715  1.10511093 -0.68862071 -0.78152099 -0.99026134 -0.20389765\n",
      "  -0.45984601 -0.40037459]]\n",
      "[[-0.06899759]\n",
      " [-1.0068253 ]\n",
      " [-0.89022937]\n",
      " [ 0.60473555]\n",
      " [ 0.52843009]]\n",
      "[[ 0.57778729 -1.03263835 -0.56890682 -0.0151343   1.89809019]\n",
      " [ 1.89619518 -1.01837159 -0.36328734  1.08333944  0.95862973]]\n",
      "[[-0.41373324]\n",
      " [ 1.00488342]]\n",
      "['diabetes-1.npy', 'diabetes-2.npy', 'diabetes-3.npy', 'diabetes-4.npy', 'weight_profiles', 'window_le']\n",
      "initialization already exists\n",
      "[[ 0.49671415 -0.1382643   0.64768854  1.52302986 -0.23415337 -0.23413696\n",
      "   1.57921282  0.76743473]\n",
      " [-0.46947439  0.54256004 -0.46341769 -0.46572975  0.24196227 -1.91328024\n",
      "  -1.72491783 -0.56228753]\n",
      " [-1.01283112  0.31424733 -0.90802408 -1.4123037   1.46564877 -0.2257763\n",
      "   0.0675282  -1.42474819]\n",
      " [-0.54438272  0.11092259 -1.15099358  0.37569802 -0.60063869 -0.29169375\n",
      "  -0.60170661  1.85227818]\n",
      " [-0.01349722 -1.05771093  0.82254491 -1.22084365  0.2088636  -1.95967012\n",
      "  -1.32818605  0.19686124]]\n",
      "[[ 0.73846658]\n",
      " [ 0.17136828]\n",
      " [-0.11564828]\n",
      " [-0.3011037 ]\n",
      " [-1.47852199]]\n",
      "[[ 0.49671415 -0.1382643   0.64768854  1.52302986 -0.23415337]\n",
      " [-0.23413696  1.57921282  0.76743473 -0.46947439  0.54256004]]\n",
      "[[-0.46341769]\n",
      " [-0.46572975]]\n"
     ]
    }
   ],
   "source": [
    "for init in initialization_list:\n",
    "    home_path = saved_path\n",
    "    os.chdir(home_path)\n",
    "    path = home_path+'\\\\NN-RESULTS-FINAL\\\\datasets'\n",
    "    datasets_path = os.path.join(path,\"data\")\n",
    "    init_path = os.path.join(path,\"initializations\")\n",
    "    os.chdir(datasets_path)\n",
    "\n",
    "\n",
    "    datasets = os.listdir()\n",
    "\n",
    "    #-----------------------------control------------------------------#\n",
    "    data_curr = \"sonar\"\n",
    "    initialization = init\n",
    "    new_init = True\n",
    "    #------------------------------------------------------------------#\n",
    "\n",
    "\n",
    "    #----------------------------------------------------------------------------------------#\n",
    "    init_path = os.path.join(path,\"initializations\")\n",
    "    path_initializations = f'{init_path}\\\\{data_curr}'\n",
    "    try:\n",
    "        list_init = os.listdir(path_initializations)\n",
    "    except:\n",
    "        os.mkdir(path_initializations)\n",
    "        list_init = os.listdir(path_initializations)\n",
    "\n",
    "    numbers = []\n",
    "\n",
    "    print(list_init)\n",
    "\n",
    "    for items in list_init:\n",
    "        if(re.search(f'{data_curr}',items)):\n",
    "            str_temp = items.split(\"-\")[1]\n",
    "            numbers.append(int(str_temp.split(\".\")[0]))\n",
    "\n",
    "\n",
    "\n",
    "\n",
    "    if numbers.__contains__(initialization) and new_init:\n",
    "        new_init = False\n",
    "        print(\"initialization already exists\")\n",
    "    else:\n",
    "        if len(numbers)==0:\n",
    "            initialization = 1\n",
    "        else:\n",
    "            initialization = numbers[-1]+1\n",
    "\n",
    "\n",
    "    params = parameter_file(data_curr,path,initialization,new_init)\n",
    "\n",
    "    lr = params['learning_rate'] \n",
    "    epochs = params['num_epochs'] \n",
    "    loss = globals()[params['loss']]\n",
    "    loss_prime = globals()[params['loss']+'_prime']\n",
    "    network = params['network']\n",
    "    start_weights = params['init']\n",
    "\n",
    "    X_train,Y_train,X_test,Y_test = params['data']\n",
    "\n",
    "\n",
    "    num_dense = 0\n",
    "    for items in network:\n",
    "        if items.__class__.__name__ == 'Dense':\n",
    "            num_dense +=1\n",
    "        \n",
    "    if new_init:\n",
    "        init_path = os.path.join(path,\"initializations\")\n",
    "        try:\n",
    "            os.mkdir(f'{init_path}\\\\{data_curr}')\n",
    "\n",
    "        except:\n",
    "            print(\"\")\n",
    "\n",
    "        path_new_init = f'{init_path}\\\\{data_curr}\\\\{data_curr}-{initialization}.npy'\n",
    "        np.save(path_new_init,start_weights)\n",
    "\n",
    "    #---------------------------------------------------------------------------------------#\n",
    "    list_w = []\n",
    "    list_b = []\n",
    "\n",
    "    weights_per_layer = []\n",
    "\n",
    "    for items in network:\n",
    "        if items.__class__.__name__ == 'Dense':\n",
    "            weights_per_layer.append(items.weights.shape[0]*items.weights.shape[1])\n",
    "\n",
    "\n",
    "    sum_ = weights_per_layer[0]\n",
    "    for i in range(1,len(weights_per_layer)):\n",
    "        sum_ += weights_per_layer[i]\n",
    "        weights_per_layer[i] = sum_\n",
    "\n",
    "\n",
    "\n",
    "    def visualize_weights(network):\n",
    "        for items in network:\n",
    "            if items.__class__.__name__ == 'Dense':\n",
    "                print(items.weights)\n",
    "                print(items.bias)\n",
    "\n",
    "\n",
    "    def mask_weights(mask_list,weights_per_layer):\n",
    "        if len(mask_list)!=0:\n",
    "            for mask in mask_list:\n",
    "                index = bisect.bisect_left(weights_per_layer,mask)\n",
    "                shape_ = network[2*index].weights.shape\n",
    "\n",
    "\n",
    "                if index!=0:\n",
    "                    mask = mask - weights_per_layer[index-1]\n",
    "\n",
    "\n",
    "                network[2*index].weights[(mask-1)//shape_[1]][(mask-1)%shape_[1]] = 0\n",
    "\n",
    "\n",
    "\n",
    "\n",
    "    def predict(network, input,store_weights=False):\n",
    "        output = input\n",
    "        for layer in network:\n",
    "            if layer.__class__.__name__ =='Dense' and store_weights==True:\n",
    "                output = layer.forward(output)\n",
    "                list_w.append(np.copy(layer.weights))\n",
    "                list_b.append(np.copy(layer.bias))\n",
    "            else :\n",
    "                output = layer.forward(output)\n",
    "\n",
    "\n",
    "        return output\n",
    "\n",
    "    def get_accuracy(X_t,Y_t):\n",
    "        correct = 0\n",
    "        for x, y in zip(X_t, Y_t):\n",
    "            output = predict(network, x,store_weights=False)\n",
    "            if np.argmax(output)==np.argmax(y):\n",
    "                correct +=1\n",
    "\n",
    "        return correct\n",
    "\n",
    "    def train(network, loss, loss_prime, x_train, y_train,x_test,y_test, epochs = 1000, learning_rate = 0.01, verbose = True,store_weights=False,mask_weight=False,mask_list=[],weights_per_layer=[]):\n",
    "        test_acc = []\n",
    "        train_acc = []\n",
    "        for e in range(epochs):\n",
    "            error = 0\n",
    "            for x, y in zip(x_train, y_train):\n",
    "                # forward\n",
    "                if mask_weight:\n",
    "                    mask_weights(mask_list=mask_list,weights_per_layer=weights_per_layer)\n",
    "                    \n",
    "                output = predict(network, x,store_weights=False)\n",
    "                # print(output)\n",
    "                # print(y)\n",
    "                # print(\"\")\n",
    "                # error\n",
    "                error += loss(y, output)\n",
    "\n",
    "                # backward\n",
    "                grad = loss_prime(y, output)\n",
    "                for layer in reversed(network):\n",
    "                    grad = layer.backward(grad, learning_rate)\n",
    "\n",
    "                \n",
    "\n",
    "                if store_weights:\n",
    "                    train_accuracy = get_accuracy(x_train,y_train)\n",
    "                    accuracy = get_accuracy(x_test,y_test)\n",
    "                    test_acc.append(accuracy/x_test.shape[0])\n",
    "                    train_acc.append(train_accuracy/x_train.shape[0])\n",
    "\n",
    "            if store_weights!=True:\n",
    "                train_accuracy = get_accuracy(x_train,y_train)\n",
    "                accuracy = get_accuracy(x_test,y_test)\n",
    "                test_acc.append(accuracy/x_test.shape[0])\n",
    "                train_acc.append(train_accuracy/x_train.shape[0])\n",
    "                    \n",
    "            error /= len(x_train)\n",
    "            if verbose:\n",
    "                print(f\"{e + 1}/{epochs}, error={error}\")\n",
    "            \n",
    "\n",
    "        return train_acc,test_acc\n",
    "\n",
    "    visualize_weights(network=network)   \n",
    "   \n",
    "    train_acc,test_acc  = train(network, loss,loss_prime,X_train,Y_train,X_test,Y_test,epochs=epochs,learning_rate=lr,verbose=False,store_weights=True,mask_weight=False)\n",
    "    df_train[f'train{initialization}'] = train_acc\n",
    "    df_test[f'test{initialization}'] = test_acc\n",
    "    dftrain = pd.DataFrame(df_train[f'train{initialization}'])\n",
    "    dftest = pd.DataFrame(df_test[f'test{initialization}'])\n",
    "    dftrain.to_csv(f'train_accuracy{initialization}.csv',index=False,header=False)\n",
    "    dftest.to_csv(f'test_accuracy{initialization}.csv',index=False,header=False)\n"
   ]
  },
  {
   "cell_type": "code",
   "execution_count": null,
   "metadata": {},
   "outputs": [],
   "source": [
    "\n",
    "\n",
    "\n",
    "def visualize_weights(network):\n",
    "    for items in network:\n",
    "        if items.__class__.__name__ == 'Dense':\n",
    "            print(items.weights)\n",
    "            print(items.bias)\n",
    "\n",
    "\n",
    "def mask_weights(mask_list,weights_per_layer):\n",
    "    if len(mask_list)!=0:\n",
    "        for mask in mask_list:\n",
    "            index = bisect.bisect_left(weights_per_layer,mask)\n",
    "            shape_ = network[2*index].weights.shape\n",
    "\n",
    "\n",
    "            if index!=0:\n",
    "                mask = mask - weights_per_layer[index-1]\n",
    "\n",
    "\n",
    "            network[2*index].weights[(mask-1)//shape_[1]][(mask-1)%shape_[1]] = 0\n",
    "\n",
    "\n",
    "\n",
    "\n",
    "def predict(network, input,store_weights=False):\n",
    "    output = input\n",
    "    for layer in network:\n",
    "        if layer.__class__.__name__ =='Dense' and store_weights==True:\n",
    "            output = layer.forward(output)\n",
    "            list_w.append(np.copy(layer.weights))\n",
    "            list_b.append(np.copy(layer.bias))\n",
    "        else :\n",
    "            output = layer.forward(output)\n",
    "\n",
    "\n",
    "    return output\n",
    "\n",
    "def get_accuracy(X_t,Y_t):\n",
    "    correct = 0\n",
    "    for x, y in zip(X_t, Y_t):\n",
    "        output = predict(network, x,store_weights=False)\n",
    "        if np.argmax(output)==np.argmax(y):\n",
    "            correct +=1\n",
    "\n",
    "    return correct\n",
    "\n",
    "def train(network, loss, loss_prime, x_train, y_train,x_test,y_test, epochs = 1000, learning_rate = 0.01, verbose = True,store_weights=False,mask_weight=False,mask_list=[],weights_per_layer=[]):\n",
    "    test_acc = []\n",
    "    train_acc = []\n",
    "    for e in range(epochs):\n",
    "        error = 0\n",
    "        for x, y in zip(x_train, y_train):\n",
    "            # forward\n",
    "            if mask_weight:\n",
    "                mask_weights(mask_list=mask_list,weights_per_layer=weights_per_layer)\n",
    "                \n",
    "            output = predict(network, x,store_weights=store_weights)\n",
    "            # print(output)\n",
    "            # print(y)\n",
    "            # print(\"\")\n",
    "            # error\n",
    "            error += loss(y, output)\n",
    "\n",
    "            # backward\n",
    "            grad = loss_prime(y, output)\n",
    "            for layer in reversed(network):\n",
    "                grad = layer.backward(grad, learning_rate)\n",
    "\n",
    "            \n",
    "\n",
    "            if store_weights:\n",
    "                train_accuracy = get_accuracy(x_train,y_train)\n",
    "                accuracy = get_accuracy(x_test,y_test)\n",
    "                test_acc.append(accuracy/x_test.shape[0])\n",
    "                train_acc.append(train_accuracy/x_train.shape[0])\n",
    "\n",
    "        if store_weights!=True:\n",
    "            train_accuracy = get_accuracy(x_train,y_train)\n",
    "            accuracy = get_accuracy(x_test,y_test)\n",
    "            test_acc.append(accuracy/x_test.shape[0])\n",
    "            train_acc.append(train_accuracy/x_train.shape[0])\n",
    "                \n",
    "        error /= len(x_train)\n",
    "        if verbose:\n",
    "            print(f\"{e + 1}/{epochs}, error={error}\")\n",
    "\n",
    "    return train_acc,test_acc      \n",
    "    \n"
   ]
  },
  {
   "cell_type": "code",
   "execution_count": 47,
   "metadata": {},
   "outputs": [
    {
     "ename": "KeyError",
     "evalue": "'train5'",
     "output_type": "error",
     "traceback": [
      "\u001b[1;31m---------------------------------------------------------------------------\u001b[0m",
      "\u001b[1;31mKeyError\u001b[0m                                  Traceback (most recent call last)",
      "\u001b[1;32mc:\\Users\\91993\\Desktop\\chaos\\mainframe.ipynb Cell 8\u001b[0m in \u001b[0;36m<cell line: 9>\u001b[1;34m()\u001b[0m\n\u001b[0;32m      <a href='vscode-notebook-cell:/c%3A/Users/91993/Desktop/chaos/mainframe.ipynb#Y123sZmlsZQ%3D%3D?line=4'>5</a>\u001b[0m     plt\u001b[39m.\u001b[39mlegend([\u001b[39m'\u001b[39m\u001b[39mtrain\u001b[39m\u001b[39m'\u001b[39m,\u001b[39m'\u001b[39m\u001b[39mtest\u001b[39m\u001b[39m'\u001b[39m])\n\u001b[0;32m      <a href='vscode-notebook-cell:/c%3A/Users/91993/Desktop/chaos/mainframe.ipynb#Y123sZmlsZQ%3D%3D?line=5'>6</a>\u001b[0m     plt\u001b[39m.\u001b[39mshow()\n\u001b[1;32m----> <a href='vscode-notebook-cell:/c%3A/Users/91993/Desktop/chaos/mainframe.ipynb#Y123sZmlsZQ%3D%3D?line=8'>9</a>\u001b[0m visualize(df_train[\u001b[39mf\u001b[39;49m\u001b[39m'\u001b[39;49m\u001b[39mtrain\u001b[39;49m\u001b[39m{\u001b[39;49;00minit\u001b[39m}\u001b[39;49;00m\u001b[39m'\u001b[39;49m],df_test[\u001b[39mf\u001b[39m\u001b[39m'\u001b[39m\u001b[39mtest\u001b[39m\u001b[39m{\u001b[39;00minit\u001b[39m}\u001b[39;00m\u001b[39m'\u001b[39m])\n",
      "\u001b[1;31mKeyError\u001b[0m: 'train5'"
     ]
    }
   ],
   "source": [
    "init = 5\n",
    "def visualize(train_acc,test_acc):\n",
    "    plt.plot(train_acc[:])\n",
    "    plt.plot(test_acc[:])\n",
    "    plt.legend(['train','test'])\n",
    "    plt.show()\n",
    "\n",
    "\n"
   ]
  },
  {
   "cell_type": "code",
   "execution_count": null,
   "metadata": {},
   "outputs": [],
   "source": [
    "\n",
    "dict_w = {k:[] for k in range(num_dense)}\n",
    "dict_b = {k:[] for k in range(num_dense)}\n",
    "\n",
    "for weights in range(len(list_w)):\n",
    "    dict_w[weights%num_dense].append(list_w[weights])\n",
    "\n",
    "for bias in range(len(list_b)):\n",
    "    dict_b[bias%num_dense].append(list_b[bias])\n",
    "\n",
    "for key in dict_w.keys():\n",
    "    for items in range(len(dict_w[key])):\n",
    "        dict_w[key][items] = dict_w[key][items].reshape(1,-1)[0]\n",
    "\n",
    "for key in dict_w.keys():\n",
    "    for items in range(len(dict_w[key])):\n",
    "        dict_w[key][items] = dict_w[key][items].reshape(1,-1)[0]\n",
    "\n",
    "df_weights = pd.DataFrame(dict_w[0])\n",
    "\n",
    "for keys in range(1,num_dense):\n",
    "    df = pd.DataFrame(dict_w[keys])\n",
    "    df_weights = pd.concat([df_weights,df],axis=1)\n",
    "\n",
    "total_weights = df_weights.shape[1]\n",
    "new_axis = [k for k in range(total_weights)]\n",
    "df_weights.set_axis(new_axis,axis=1,inplace=True)\n",
    "\n",
    "\n",
    "mis_class = [1-testacc for testacc in test_acc]\n",
    "file_str = f'{path_initializations}\\\\weight_profiles\\\\{data_curr}-{initialization}_weights.csv'\n",
    "try:\n",
    "    df_weights.to_csv(file_str,index=False,header=False)\n",
    "except:\n",
    "    os.mkdir(f'{path_initializations}\\\\weight_profiles')\n",
    "    df_weights.to_csv(file_str,index=False,header=False)\n",
    "\n",
    "\n"
   ]
  },
  {
   "cell_type": "code",
   "execution_count": 15,
   "metadata": {},
   "outputs": [
    {
     "data": {
      "text/plain": [
       "dict_keys(['test1', 'test2', 'test3', 'test4'])"
      ]
     },
     "execution_count": 15,
     "metadata": {},
     "output_type": "execute_result"
    }
   ],
   "source": [
    "df_test.keys()"
   ]
  },
  {
   "cell_type": "code",
   "execution_count": 61,
   "metadata": {},
   "outputs": [],
   "source": [
    "\n",
    "initialization = 2\n",
    "mis_class = [1-testacc for testacc in df_test[f'test{initialization}']]\n",
    "##-----------------------------##\n",
    "file_str = f'{path_initializations}\\\\weight_profiles\\\\{data_curr}-{initialization}_weights.csv'\n",
    "window_size = 200\n",
    "overlap = 0.1\n",
    "\n",
    "index_val = int(window_size*(1-overlap))\n",
    "num_iterates = len(mis_class)//index_val\n",
    "##-----------------------------##\n",
    "\n",
    "\n",
    "\n",
    "\n",
    "curr_dir = os.getcwd()\n",
    "matlab_dir = home_path+'\\\\NN-RESULTS-FINAL\\\\scripts\\\\matlab\\\\tisean package\\\\TISEAN_3.0.0-windows\\\\Tisean_3.0.0\\\\bin'\n",
    "os.chdir(matlab_dir)\n",
    "\n",
    "wpath = home_path+f\"\\\\NN-RESULTS-FINAL\\\\datasets\\\\initializations\\\\{data_curr}\\\\window_le\"\n",
    "\n",
    "matlab_script = fr'''\n",
    "close all;\n",
    "clear all;\n",
    "                                %make folder from here onwards --> and\n",
    "                                %the following string should be the same\n",
    "                                %across all systems wherever it is\n",
    "                                %supposed to be used\n",
    "\n",
    "\n",
    "wpath = \"{wpath}\";\n",
    "\n",
    "\n",
    "\n",
    "\n",
    "fullFileName = \"{file_str}\";\n",
    "\n",
    "\n",
    "data = csvread(fullFileName);\n",
    "samp = size(data,2);\n",
    "\n",
    "LE = [];\n",
    "  csvfilename = \"\\\\window_LE_\"+num2str({initialization})+\".csv\";\n",
    "  for m = 1:samp\n",
    "      timeseries = data(:,m);\n",
    "      le = [];\n",
    "      for i = 0:{num_iterates-1}\n",
    "        x = timeseries({index_val}*i+1:{index_val}*(i+1)+{window_size*overlap});\n",
    "        y = L_E(x);\n",
    "    \n",
    "        M = Slope(y);\n",
    "        lslope = verify(M,i);\n",
    "   \n",
    "  \n",
    "        le = [le,lslope];\n",
    "                \n",
    "      end\n",
    "        LE = [LE;le];\n",
    "  end\n",
    "    csvwrite(wpath+csvfilename,LE);\n",
    "\n",
    "\n",
    "\n",
    "\n",
    "\n",
    "\n",
    "function y = L_E(x)\n",
    "    \n",
    "    x=x';\n",
    "    y = [];\n",
    "    y=y';\n",
    "    fid=fopen('logi1.dat','wt');\n",
    "    fprintf(fid,'%f\\n',x);\n",
    "    fclose(fid);\n",
    "\n",
    "    system('lyap_r -m2 -r20 -d1 -s20 -V0 -o logi1_lyap.dat logi1.dat');\n",
    "    y=load('logi1_lyap.dat');\n",
    "\n",
    "end\n",
    "\n",
    "function M = Slope(y1)\n",
    "    y_1 = interp1(y1(:,1),y1(:,2),[1 2.5],'linear');\n",
    "    y_2 = interp1(y1(:,1),y1(:,2),[0.75 1],'linear');\n",
    "    y_3= interp1(y1(:,1),y1(:,2),[0.5 0.6],'linear');\n",
    "    y_4= interp1(y1(:,1),y1(:,2),[0.25 0.75],'linear');\n",
    "    \n",
    "    slope1 = (y_1(2)-y_1(1))/(2.5-1);\n",
    "    slope2 = (y_2(2)-y_2(1))/(1-0.75);\n",
    "    slope3 = (y_3(2)-y_3(1))/(0.6-0.5);\n",
    "    slope4 = (y_4(2)-y_4(1))/(.75-.25);\n",
    "    \n",
    "    M = [slope1 , slope2,  slope3 , slope4];\n",
    "\n",
    "end\n",
    "\n",
    "function lslope = verify(M,i)\n",
    "    M = round(M,6);\n",
    "    if (M(2) == M(3))\n",
    "        lslope = M(2);\n",
    "    elseif  ( M(3) == M(4)|| M(2) == M(4))\n",
    "        lslope = M(4);  \n",
    "    else\n",
    "        lslope = 0;  \n",
    "        disp(\"Slope not matching at \"+i);\n",
    "    end\n",
    "end\n",
    "\n",
    "\n",
    "\n",
    "'''\n",
    "\n",
    "f = open(\"window_LE.m\", \"w\")\n",
    "f.write(matlab_script)\n",
    "f.close()\n",
    "\n",
    "r = 1\n",
    "r = os.system(r\"matlab -nodisplay -nosplash -nodesktop -r run('window_LE.m'); exit;\")\n",
    "\n"
   ]
  },
  {
   "cell_type": "code",
   "execution_count": 54,
   "metadata": {},
   "outputs": [],
   "source": [
    "initialization = 1\n",
    "curr_file = f'{path_initializations}\\\\window_le\\\\window_LE_{initialization}.csv'\n",
    "try:\n",
    "    le = np.genfromtxt(curr_file,delimiter=',')\n",
    "except:\n",
    "    os.mkdir(f'{path_initializations}\\\\window_le')\n",
    "    le = np.genfromtxt(curr_file,delimiter=',')\n",
    "\n",
    "\n",
    "le = le.T\n",
    "df = pd.DataFrame(le)\n"
   ]
  },
  {
   "cell_type": "code",
   "execution_count": 55,
   "metadata": {},
   "outputs": [],
   "source": [
    "\n",
    "\n",
    "from statsmodels.tsa.stattools import grangercausalitytests\n",
    "mis_class = [1-testacc for testacc in df_test[f'test{initialization}']]\n",
    "mis_risk = []\n",
    "\n",
    "for i in range(num_iterates):\n",
    "    r = index_val*(i+1) + int((window_size*overlap))\n",
    "    mis_risk.append(mis_class[r-1])\n",
    "\n",
    "maxlag = 20\n",
    "pval = []\n",
    "test = 'ssr_chi2test'\n",
    "\n",
    "for c in df.columns:\n",
    "    df1 = pd.DataFrame([mis_risk,df.iloc[:,c].values])\n",
    "    df1 = df1.T\n",
    "    non_zero = df1[1].count()\n",
    "    df1 = df1.iloc[:non_zero]\n",
    "    test_result = grangercausalitytests(df1[[0,1]], maxlag=20, verbose=False)\n",
    "    p_values = [round(test_result[i+1][0][test][1],4) for i in range(maxlag)]\n",
    "    f_values = [round(test_result[i+1][0][test][0],4) for i in range(maxlag)]\n",
    "    min_p_value = np.min(p_values)\n",
    "    pval.append(min_p_value)\n",
    "pval = np.asarray(pval)\n",
    "mask = np.where(pval>=0.05)[0]+1\n",
    "mask_list = mask.tolist()\n"
   ]
  },
  {
   "cell_type": "code",
   "execution_count": 44,
   "metadata": {},
   "outputs": [
    {
     "data": {
      "text/plain": [
       "False"
      ]
     },
     "execution_count": 44,
     "metadata": {},
     "output_type": "execute_result"
    }
   ],
   "source": [
    "new_init"
   ]
  },
  {
   "cell_type": "code",
   "execution_count": 56,
   "metadata": {},
   "outputs": [],
   "source": [
    "params = parameter_file(data_curr,path,initialization,new_init)\n",
    "\n",
    "lr = params['learning_rate'] \n",
    "epochs = params['num_epochs'] \n",
    "loss = globals()[params['loss']]\n",
    "loss_prime = globals()[params['loss']+'_prime']\n",
    "network = params['network']\n",
    "start_weights = params['init']\n"
   ]
  },
  {
   "cell_type": "code",
   "execution_count": 57,
   "metadata": {},
   "outputs": [],
   "source": [
    "\n",
    "network = initialize_Weights(network,params['init'])\n",
    "train_sparse, test_sparse = train(network, loss,loss_prime,X_train,Y_train,X_test,Y_test,epochs=epochs,learning_rate=lr,verbose=False,store_weights=False,mask_weight=True,mask_list=mask_list,weights_per_layer=weights_per_layer)\n",
    "network = initialize_Weights(network,params['init'])\n",
    "train_acc, test_acc = train(network, loss,loss_prime,X_train,Y_train,X_test,Y_test,epochs=epochs,learning_rate=lr,verbose=False,store_weights=False,mask_weight=False,mask_list=mask_list,weights_per_layer=weights_per_layer)\n",
    "\n"
   ]
  },
  {
   "cell_type": "code",
   "execution_count": 48,
   "metadata": {},
   "outputs": [
    {
     "data": {
      "image/png": "[encoded data removed]",
      "text/plain": [
       "<Figure size 432x288 with 1 Axes>"
      ]
     },
     "metadata": {
      "needs_background": "light"
     },
     "output_type": "display_data"
    },
    {
     "data": {
      "image/png": "[encoded data removed]",
      "text/plain": [
       "<Figure size 432x288 with 1 Axes>"
      ]
     },
     "metadata": {
      "needs_background": "light"
     },
     "output_type": "display_data"
    }
   ],
   "source": [
    "visualize(train_acc,test_acc)\n",
    "visualize(train_sparse,test_sparse)"
   ]
  },
  {
   "cell_type": "code",
   "execution_count": 53,
   "metadata": {},
   "outputs": [
    {
     "data": {
      "image/png": "[encoded data removed]",
      "text/plain": [
       "<Figure size 432x288 with 1 Axes>"
      ]
     },
     "metadata": {
      "needs_background": "light"
     },
     "output_type": "display_data"
    },
    {
     "data": {
      "image/png": "[encoded data removed]",
      "text/plain": [
       "<Figure size 432x288 with 1 Axes>"
      ]
     },
     "metadata": {
      "needs_background": "light"
     },
     "output_type": "display_data"
    }
   ],
   "source": [
    "visualize(train_acc,test_acc)\n",
    "visualize(train_sparse,test_sparse)"
   ]
  },
  {
   "cell_type": "code",
   "execution_count": 60,
   "metadata": {},
   "outputs": [
    {
     "data": {
      "image/png": "[encoded data removed]",
      "text/plain": [
       "<Figure size 432x288 with 1 Axes>"
      ]
     },
     "metadata": {
      "needs_background": "light"
     },
     "output_type": "display_data"
    },
    {
     "data": {
      "image/png": "[encoded data removed]",
      "text/plain": [
       "<Figure size 432x288 with 1 Axes>"
      ]
     },
     "metadata": {
      "needs_background": "light"
     },
     "output_type": "display_data"
    }
   ],
   "source": [
    "visualize(train_acc,test_acc)\n",
    "visualize(train_sparse,test_sparse)"
   ]
  },
  {
   "cell_type": "code",
   "execution_count": null,
   "metadata": {},
   "outputs": [],
   "source": []
  },
  {
   "cell_type": "code",
   "execution_count": null,
   "metadata": {},
   "outputs": [],
   "source": []
  }
 ],
 "metadata": {
  "kernelspec": {
   "display_name": "Python 3",
   "language": "python",
   "name": "python3"
  },
  "language_info": {
   "codemirror_mode": {
    "name": "ipython",
    "version": 3
   },
   "file_extension": ".py",
   "mimetype": "text/x-python",
   "name": "python",
   "nbconvert_exporter": "python",
   "pygments_lexer": "ipython3",
   "version": "3.10.4"
  },
  "orig_nbformat": 4,
  "vscode": {
   "interpreter": {
    "hash": "369f2c481f4da34e4445cda3fffd2e751bd1c4d706f27375911949ba6bb62e1c"
   }
  }
 },
 "nbformat": 4,
 "nbformat_minor": 2
}
