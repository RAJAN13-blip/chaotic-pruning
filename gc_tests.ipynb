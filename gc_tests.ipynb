{
 "cells": [
  {
   "attachments": {},
   "cell_type": "markdown",
   "metadata": {},
   "source": [
    "- We get weights\n",
    "-  Windowed Lyapunov exponents\n",
    "-  Calculate granger causality for le-window vs misclassification\n",
    "-  Find non causal weights\n",
    "-  Remove non causal weight to build sparse network\n",
    "-  Set a threshold for training accuracy, run original and sparse networks till they reach the thresholds"
   ]
  },
  {
   "cell_type": "code",
   "execution_count": 1,
   "metadata": {},
   "outputs": [],
   "source": [
    "from statsmodels.tsa.stattools import grangercausalitytests\n",
    "\n",
    "import pandas as pd\n",
    "import matplotlib.pyplot as plt\n",
    "import numpy as np\n",
    "from statsmodels.tsa.stattools import adfuller"
   ]
  },
  {
   "cell_type": "code",
   "execution_count": 672,
   "metadata": {},
   "outputs": [],
   "source": [
    "stat = False\n",
    "init = \"2\"\n",
    "data = \"Vowel\"\n",
    "le = np.genfromtxt(f\"/home/sc/chaos dyn/Results/{data}/LE_window/window_LE_5epochs_{init}.csv\",delimiter=',')\n",
    "acc = np.genfromtxt(f\"/home/sc/chaos dyn/Results/{data}/point 1/acc/acc_{init}.csv\",delimiter=',')"
   ]
  },
  {
   "cell_type": "code",
   "execution_count": 566,
   "metadata": {},
   "outputs": [],
   "source": [
    "# le = le[:25,39200:]\n",
    "# le.shape\n",
    "le = le.T"
   ]
  },
  {
   "cell_type": "code",
   "execution_count": 567,
   "metadata": {},
   "outputs": [],
   "source": [
    "window_size = 50\n",
    "overlap = 0.1\n",
    "iterates = le.shape[1]\n",
    "\n",
    "mis_risk = []\n",
    "for i in range(0,iterates):\n",
    "    \n",
    "    r = int(window_size*(1-overlap)*(i+1)+window_size*overlap)\n",
    "    # r=i\n",
    "    \n",
    "    # mis_risk.append(100-acc[i])\n",
    "    mis_risk.append(1-acc[r-1][0])"
   ]
  },
  {
   "cell_type": "code",
   "execution_count": 568,
   "metadata": {},
   "outputs": [],
   "source": [
    "if stat:\n",
    "    count = 0\n",
    "    for i in range(le.shape[0]):\n",
    "        if (adfuller(le[i,:])[1]>0.05):\n",
    "            count+=1   \n",
    "    print(count)\n",
    "    if (count>0):\n",
    "        le = np.diff(le)\n",
    "    \n",
    "    if adfuller(mis_risk)[1]>=0.05:\n",
    "        print(\"Acc not stationary\")\n",
    "        mis_risk = np.diff(mis_risk)\n",
    "\n",
    "if data != \"mnist\":\n",
    "    le = le.T"
   ]
  },
  {
   "cell_type": "code",
   "execution_count": 569,
   "metadata": {},
   "outputs": [],
   "source": [
    "mis_risk = np.array(mis_risk)"
   ]
  },
  {
   "cell_type": "code",
   "execution_count": 573,
   "metadata": {},
   "outputs": [],
   "source": [
    "maxlag = 14\n",
    "df = pd.DataFrame(le)\n",
    "pval = []\n",
    "for c in df:#df.columns:\n",
    "    # test_result = grangercausalitytests(df[[60,c]], maxlag=20, verbose=False)\n",
    "    try:\n",
    "      test_result = grangercausalitytests(np.array((mis_risk,df.iloc[:,c])).T, maxlag=maxlag, verbose=False)\n",
    "    except:\n",
    "      pval.append(0)\n",
    "      continue\n",
    "#     test_result = grangercausalitytests(np.array((mis_risk,df.iloc[:,c])), maxlag=20, verbose=False)\n",
    "    p_values = [round(test_result[i+1][0]['ssr_chi2test'][1],4) for i in range(maxlag)]\n",
    "    f_values = [round(test_result[i+1][0]['ssr_chi2test'][0],4) for i in range(maxlag)]\n",
    "    min_p_value = np.min(p_values)\n",
    "    pval.append(min_p_value)"
   ]
  },
  {
   "cell_type": "code",
   "execution_count": 574,
   "metadata": {},
   "outputs": [
    {
     "data": {
      "text/plain": [
       "2"
      ]
     },
     "execution_count": 574,
     "metadata": {},
     "output_type": "execute_result"
    }
   ],
   "source": [
    "p = pd.Series(pval)\n",
    "connections = p.sort_values()[-len(p[p>=0.05]):].index\n",
    "len(p[p>=0.05])"
   ]
  },
  {
   "cell_type": "code",
   "execution_count": 575,
   "metadata": {},
   "outputs": [
    {
     "data": {
      "text/plain": [
       "Int64Index([6, 26], dtype='int64')"
      ]
     },
     "execution_count": 575,
     "metadata": {},
     "output_type": "execute_result"
    }
   ],
   "source": [
    "connections"
   ]
  },
  {
   "cell_type": "code",
   "execution_count": 38,
   "metadata": {},
   "outputs": [],
   "source": [
    "pd.DataFrame(connections).to_csv(f\"/home/sc/chaos dyn/chaotic_pruning/masks/mask_{data}_{init}.csv\",header= False ,index = False)"
   ]
  }
 ],
 "metadata": {
  "kernelspec": {
   "display_name": "Python 3",
   "language": "python",
   "name": "python3"
  },
  "language_info": {
   "codemirror_mode": {
    "name": "ipython",
    "version": 3
   },
   "file_extension": ".py",
   "mimetype": "text/x-python",
   "name": "python",
   "nbconvert_exporter": "python",
   "pygments_lexer": "ipython3",
   "version": "3.10.9"
  },
  "orig_nbformat": 4,
  "vscode": {
   "interpreter": {
    "hash": "37a27d0e5b469d6519fba8d674fca678a9e423d1818ec628dd8efc12286d08bf"
   }
  }
 },
 "nbformat": 4,
 "nbformat_minor": 2
}
